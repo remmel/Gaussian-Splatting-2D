{
 "cells": [
  {
   "cell_type": "code",
   "execution_count": 24,
   "metadata": {},
   "outputs": [
    {
     "data": {
      "application/vnd.jupyter.widget-view+json": {
       "model_id": "c70157480406403bbb4044a48efc6dcd",
       "version_major": 2,
       "version_minor": 0
      },
      "text/plain": [
       "HBox(children=(VBox(children=(FloatSlider(value=-2.0, description='sx:', max=3.0, min=-3.0, step=0.01), FloatS…"
      ]
     },
     "metadata": {},
     "output_type": "display_data"
    }
   ],
   "source": [
    "import ipywidgets as widgets\n",
    "from IPython.display import display, clear_output\n",
    "from nostrategy import GS2D\n",
    "import torch\n",
    "import matplotlib.pyplot as plt\n",
    "import matplotlib.colors as mcolors\n",
    "\n",
    "\n",
    "device = 'cuda'\n",
    "gs = GS2D(img_size=(256, 256, 3), device=device)\n",
    "\n",
    "\n",
    "# Function to use the slider value and display the result\n",
    "def update_image(_):\n",
    "    rgb_color = mcolors.hex2color(color_picker.value)\n",
    "    params_splat0 = [sx.value, sy.value, rho_.value, m_x.value, m_y.value, rgb_color[0], rgb_color[1], rgb_color[2], a.value]\n",
    "\n",
    "    w = torch.tensor([params_splat0], device=device)\n",
    "    params_label.value = f'Params:<br />{params_splat0}'\n",
    "\n",
    "    # Parse parameters\n",
    "    sigma, rho, mean, color, alpha = gs.parse_param(w)\n",
    "\n",
    "    pparams_tlist = [sigma, rho, mean, color, alpha]\n",
    "    pparams_br = [str(tensor.tolist()) for tensor in pparams_tlist]\n",
    "    params_parse_label.value = f'Params parsed:<br />{\"<br />\".join(pparams_br)}'\n",
    "\n",
    "    # Draw the Gaussians\n",
    "    img = gs.draw_gaussian(sigma, rho, mean, color, alpha)\n",
    "    imgcpu = img.permute(1, 2, 0).cpu().detach().numpy()\n",
    "\n",
    "    with out:\n",
    "        clear_output(wait=True)\n",
    "        plt.imshow(imgcpu)\n",
    "        plt.axis('off')\n",
    "        plt.show()\n",
    "\n",
    "\n",
    "sx = widgets.FloatSlider(value=-2, min=-3, max=3, step=0.01, description='sx:')\n",
    "sy = widgets.FloatSlider(value=-3, min=-3, max=3, step=0.01, description='sy:')\n",
    "rho_ = widgets.FloatSlider(value=.5, min=-1, max=1, step=0.01, description='rho:')\n",
    "m_x = widgets.FloatSlider(value=.5, min=-2, max=2, step=0.01, description='m_x:')\n",
    "m_y = widgets.FloatSlider(value=-1, min=-2, max=2, step=0.01, description='m_y:')\n",
    "color_picker = widgets.ColorPicker(value='#ff0000', description='Color:')\n",
    "a = widgets.FloatSlider(value=1.0, min=0.0, max=1.0, step=0.01, description='a:')\n",
    "\n",
    "params_ui = [sx, sy, rho_, m_x, m_y, color_picker, a]\n",
    "for widget in params_ui:\n",
    "    widget.observe(update_image, names='value')\n",
    "\n",
    "\n",
    "update_button = widgets.Button(description=\"Update Image\")\n",
    "update_button.on_click(update_image)\n",
    "\n",
    "# Create a label widget to display the result\n",
    "params_label = widgets.HTML(value='Params:')\n",
    "params_parse_label = widgets.HTML(value=f'Parsed Params\\n:')\n",
    "\n",
    "out = widgets.Output()\n",
    "\n",
    "# Display the slider and result label\n",
    "sliders = widgets.VBox(params_ui)\n",
    "col2 = widgets.VBox([params_label, params_parse_label])\n",
    "ui = widgets.HBox([sliders, out, col2])\n",
    "display(ui)\n",
    "update_image(None)"
   ]
  }
 ],
 "metadata": {
  "kernelspec": {
   "display_name": "img-gs",
   "language": "python",
   "name": "python3"
  },
  "language_info": {
   "codemirror_mode": {
    "name": "ipython",
    "version": 3
   },
   "file_extension": ".py",
   "mimetype": "text/x-python",
   "name": "python",
   "nbconvert_exporter": "python",
   "pygments_lexer": "ipython3",
   "version": "3.12.2"
  }
 },
 "nbformat": 4,
 "nbformat_minor": 2
}
